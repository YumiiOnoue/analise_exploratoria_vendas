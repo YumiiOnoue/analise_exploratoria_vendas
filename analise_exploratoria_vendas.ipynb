{
 "cells": [
  {
   "cell_type": "markdown",
   "id": "755f6574",
   "metadata": {},
   "source": [
    "# Análise Exploratória das vendas de açaí"
   ]
  },
  {
   "cell_type": "markdown",
   "id": "3a392b57",
   "metadata": {},
   "source": [
    "O objetivo do projeto é fazer uma análise exploratóriio das vendas de açaí sobre uma base de 70.000 linhas"
   ]
  },
  {
   "cell_type": "code",
   "execution_count": null,
   "id": "79507f1e",
   "metadata": {
    "scrolled": false
   },
   "outputs": [],
   "source": [
    "!pip install --user plotly_express"
   ]
  },
  {
   "cell_type": "code",
   "execution_count": null,
   "id": "644df5b1",
   "metadata": {},
   "outputs": [],
   "source": [
    "import pandas as pd\n",
    "import plotly_express as px"
   ]
  },
  {
   "cell_type": "code",
   "execution_count": null,
   "id": "ec0da4d1",
   "metadata": {},
   "outputs": [],
   "source": [
    "dados = pd.read_excel(\"vendas.xlsx\")"
   ]
  },
  {
   "cell_type": "markdown",
   "id": "e66b191e",
   "metadata": {},
   "source": [
    "## Análise Exploratória"
   ]
  },
  {
   "cell_type": "code",
   "execution_count": null,
   "id": "673fec19",
   "metadata": {},
   "outputs": [],
   "source": [
    "dados.head()"
   ]
  },
  {
   "cell_type": "code",
   "execution_count": null,
   "id": "949938ce",
   "metadata": {},
   "outputs": [],
   "source": [
    "dados.tail()"
   ]
  },
  {
   "cell_type": "code",
   "execution_count": null,
   "id": "1fd7551a",
   "metadata": {},
   "outputs": [],
   "source": [
    "dados.shape"
   ]
  },
  {
   "cell_type": "code",
   "execution_count": null,
   "id": "8e50df7f",
   "metadata": {},
   "outputs": [],
   "source": [
    "dados.info()"
   ]
  },
  {
   "cell_type": "code",
   "execution_count": null,
   "id": "b70d490c",
   "metadata": {},
   "outputs": [],
   "source": [
    "dados.describe()"
   ]
  },
  {
   "cell_type": "code",
   "execution_count": null,
   "id": "d7d57ddd",
   "metadata": {},
   "outputs": [],
   "source": [
    "dados['loja']"
   ]
  },
  {
   "cell_type": "code",
   "execution_count": null,
   "id": "6d62176f",
   "metadata": {},
   "outputs": [],
   "source": [
    "dados['loja'].unique()"
   ]
  },
  {
   "cell_type": "code",
   "execution_count": null,
   "id": "543bf10c",
   "metadata": {},
   "outputs": [],
   "source": [
    "dados['loja'].value_counts()"
   ]
  },
  {
   "cell_type": "code",
   "execution_count": null,
   "id": "81a6a96d",
   "metadata": {},
   "outputs": [],
   "source": [
    "dados['loja'].value_counts(normalize=True)"
   ]
  },
  {
   "cell_type": "markdown",
   "id": "f5830ad7",
   "metadata": {},
   "source": [
    "## Agrupando dados"
   ]
  },
  {
   "cell_type": "code",
   "execution_count": null,
   "id": "65a8bca5",
   "metadata": {},
   "outputs": [],
   "source": [
    "dados.groupby('loja').sum()"
   ]
  },
  {
   "cell_type": "code",
   "execution_count": null,
   "id": "4cdb1943",
   "metadata": {},
   "outputs": [],
   "source": [
    "dados.groupby('loja').mean()"
   ]
  },
  {
   "cell_type": "markdown",
   "id": "9cb57a56",
   "metadata": {},
   "source": [
    "## Gráficos"
   ]
  },
  {
   "cell_type": "code",
   "execution_count": null,
   "id": "354a28f0",
   "metadata": {},
   "outputs": [],
   "source": [
    "px.histogram(dados, x=\"loja\", color=\"regiao\", text_auto=True)"
   ]
  },
  {
   "cell_type": "code",
   "execution_count": null,
   "id": "0c00e844",
   "metadata": {},
   "outputs": [],
   "source": [
    "px.histogram(dados, x='loja', color='regiao', text_auto=True)"
   ]
  },
  {
   "cell_type": "code",
   "execution_count": null,
   "id": "71af2456",
   "metadata": {},
   "outputs": [],
   "source": [
    "colunas = ['loja','cidade', 'estado', 'tamanho', 'local_consumo']\n",
    "\n",
    "for coluna in colunas:\n",
    "    fig = px.histogram(dados, x=coluna, y='preco', color='forma_pagamento', text_auto=True)\n",
    "    fig.write_html(f\"faturamento por {coluna}.html\")\n",
    "    fig.show()"
   ]
  },
  {
   "cell_type": "code",
   "execution_count": null,
   "id": "5d9e5dfe",
   "metadata": {},
   "outputs": [],
   "source": [
    "# agrupando os dados\n",
    "agrupado = dados.groupby(['loja', 'ano_mes']).sum()\n",
    "\n",
    "#resetando os índices\n",
    "agrupado.reset_index(inplace=True)\n",
    "\n",
    "# criando uma coluna com o valor acumulado\n",
    "agrupado['acumulado'] = agrupado.groupby('loja').cumsum()"
   ]
  },
  {
   "cell_type": "code",
   "execution_count": null,
   "id": "28ffaa29",
   "metadata": {},
   "outputs": [],
   "source": [
    "fig = px.bar(agrupado, \n",
    "             x='acumulado', \n",
    "             y=\"loja\", \n",
    "             color='loja',  \n",
    "             text_auto=True,\n",
    "             range_x=[0,160000],\n",
    "             animation_frame='ano_mes')\n",
    "fig.show()"
   ]
  },
  {
   "cell_type": "code",
   "execution_count": null,
   "id": "6043131b",
   "metadata": {},
   "outputs": [],
   "source": [
    "# exportando o gráfico para um arquivo\n",
    "fig.write_html('grafico_animado.html')"
   ]
  },
  {
   "cell_type": "markdown",
   "id": "5e417114",
   "metadata": {},
   "source": [
    "Projeto realizado através das aulas da Empowerdata na Semana do Python na Prática."
   ]
  }
 ],
 "metadata": {
  "kernelspec": {
   "display_name": "Python 3 (ipykernel)",
   "language": "python",
   "name": "python3"
  },
  "language_info": {
   "codemirror_mode": {
    "name": "ipython",
    "version": 3
   },
   "file_extension": ".py",
   "mimetype": "text/x-python",
   "name": "python",
   "nbconvert_exporter": "python",
   "pygments_lexer": "ipython3",
   "version": "3.9.12"
  }
 },
 "nbformat": 4,
 "nbformat_minor": 5
}
